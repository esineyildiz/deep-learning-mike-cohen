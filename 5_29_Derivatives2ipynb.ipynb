{
  "nbformat": 4,
  "nbformat_minor": 0,
  "metadata": {
    "colab": {
      "provenance": [],
      "authorship_tag": "ABX9TyO67J0FuEcHLafYCQpvj7aY",
      "include_colab_link": true
    },
    "kernelspec": {
      "name": "python3",
      "display_name": "Python 3"
    },
    "language_info": {
      "name": "python"
    }
  },
  "cells": [
    {
      "cell_type": "markdown",
      "metadata": {
        "id": "view-in-github",
        "colab_type": "text"
      },
      "source": [
        "<a href=\"https://colab.research.google.com/github/esineyildiz/deep-learning-mike-cohen/blob/main/5_29_Derivatives2ipynb.ipynb\" target=\"_parent\"><img src=\"https://colab.research.google.com/assets/colab-badge.svg\" alt=\"Open In Colab\"/></a>"
      ]
    },
    {
      "cell_type": "code",
      "execution_count": null,
      "metadata": {
        "id": "tEBGs26zJiZo"
      },
      "outputs": [],
      "source": [
        "import numpy as np\n",
        "import sympy as sym\n",
        "\n",
        "from IPython.display import display"
      ]
    },
    {
      "cell_type": "code",
      "source": [
        "# create symbolic variables in sympy\n",
        "x = sym.symbols('x')\n",
        "\n",
        "# create two functions\n",
        "fx = 2*x**2\n",
        "gx = 4**3 - 3*x**4\n",
        "\n",
        "# compute their individual derivatives\n",
        "df = sym.diff(fx)\n",
        "dg = sym.diff(gx)\n",
        "\n",
        "# apply the product rule \"manually\"\n",
        "manual = df*gx + fx*dg\n",
        "\n",
        "# via sympy\n",
        "viasympy = sym.diff(fx*gx)\n",
        "# print everything\n",
        "print('The functions: ')\n",
        "display(fx)\n",
        "display(gx)\n",
        "print(' ')\n",
        "\n",
        "print('Their derivatives:')\n",
        "display(df)\n",
        "display(dg)\n",
        "print(' ')\n",
        "\n",
        "print('Manual product rule:')\n",
        "display(manual)\n",
        "print(' ')\n",
        "\n",
        "print('Via sympy:')\n",
        "display(viasympy)\n",
        "print(' ')"
      ],
      "metadata": {
        "colab": {
          "base_uri": "https://localhost:8080/",
          "height": 291
        },
        "id": "uSu2mUHRQj39",
        "outputId": "7f5b4238-f593-44f1-d28b-f44f8443170f"
      },
      "execution_count": null,
      "outputs": [
        {
          "output_type": "stream",
          "name": "stdout",
          "text": [
            "The functions: \n"
          ]
        },
        {
          "output_type": "display_data",
          "data": {
            "text/plain": [
              "2*x**2"
            ],
            "text/latex": "$\\displaystyle 2 x^{2}$"
          },
          "metadata": {}
        },
        {
          "output_type": "display_data",
          "data": {
            "text/plain": [
              "64 - 3*x**4"
            ],
            "text/latex": "$\\displaystyle 64 - 3 x^{4}$"
          },
          "metadata": {}
        },
        {
          "output_type": "stream",
          "name": "stdout",
          "text": [
            " \n",
            "Their derivatives:\n"
          ]
        },
        {
          "output_type": "display_data",
          "data": {
            "text/plain": [
              "4*x"
            ],
            "text/latex": "$\\displaystyle 4 x$"
          },
          "metadata": {}
        },
        {
          "output_type": "display_data",
          "data": {
            "text/plain": [
              "-12*x**3"
            ],
            "text/latex": "$\\displaystyle - 12 x^{3}$"
          },
          "metadata": {}
        },
        {
          "output_type": "stream",
          "name": "stdout",
          "text": [
            " \n",
            "Manual product rule:\n"
          ]
        },
        {
          "output_type": "display_data",
          "data": {
            "text/plain": [
              "-24*x**5 + 4*x*(64 - 3*x**4)"
            ],
            "text/latex": "$\\displaystyle - 24 x^{5} + 4 x \\left(64 - 3 x^{4}\\right)$"
          },
          "metadata": {}
        },
        {
          "output_type": "stream",
          "name": "stdout",
          "text": [
            " \n",
            "Via sympy:\n"
          ]
        },
        {
          "output_type": "display_data",
          "data": {
            "text/plain": [
              "-24*x**5 + 4*x*(64 - 3*x**4)"
            ],
            "text/latex": "$\\displaystyle - 24 x^{5} + 4 x \\left(64 - 3 x^{4}\\right)$"
          },
          "metadata": {}
        },
        {
          "output_type": "stream",
          "name": "stdout",
          "text": [
            " \n"
          ]
        }
      ]
    },
    {
      "cell_type": "code",
      "source": [
        "# repeat with the chain rule\n",
        "gx = x**2 + 4*x**3\n",
        "fx = (gx)**5\n",
        "\n",
        "print('The function: ')\n",
        "display(fx)\n",
        "print(' ')\n",
        "\n",
        "print(' Its derivative: ')\n",
        "display(sym.diff(fx))"
      ],
      "metadata": {
        "colab": {
          "base_uri": "https://localhost:8080/",
          "height": 119
        },
        "id": "HjjeIQFJR3OH",
        "outputId": "bb9a597c-c079-4b63-f75b-4002ac8968f9"
      },
      "execution_count": null,
      "outputs": [
        {
          "output_type": "stream",
          "name": "stdout",
          "text": [
            "The function: \n"
          ]
        },
        {
          "output_type": "display_data",
          "data": {
            "text/plain": [
              "(4*x**3 + x**2)**5"
            ],
            "text/latex": "$\\displaystyle \\left(4 x^{3} + x^{2}\\right)^{5}$"
          },
          "metadata": {}
        },
        {
          "output_type": "stream",
          "name": "stdout",
          "text": [
            " \n",
            " Its derivative: \n"
          ]
        },
        {
          "output_type": "display_data",
          "data": {
            "text/plain": [
              "(60*x**2 + 10*x)*(4*x**3 + x**2)**4"
            ],
            "text/latex": "$\\displaystyle \\left(60 x^{2} + 10 x\\right) \\left(4 x^{3} + x^{2}\\right)^{4}$"
          },
          "metadata": {}
        }
      ]
    }
  ]
}