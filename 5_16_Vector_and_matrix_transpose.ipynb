{
  "nbformat": 4,
  "nbformat_minor": 0,
  "metadata": {
    "colab": {
      "provenance": [],
      "authorship_tag": "ABX9TyMqmkutB0Pc3aGTz1QOF2b2",
      "include_colab_link": true
    },
    "kernelspec": {
      "name": "python3",
      "display_name": "Python 3"
    },
    "language_info": {
      "name": "python"
    }
  },
  "cells": [
    {
      "cell_type": "markdown",
      "metadata": {
        "id": "view-in-github",
        "colab_type": "text"
      },
      "source": [
        "<a href=\"https://colab.research.google.com/github/esineyildiz/deep-learning-mike-cohen/blob/main/5_16_Vector_and_matrix_transpose.ipynb\" target=\"_parent\"><img src=\"https://colab.research.google.com/assets/colab-badge.svg\" alt=\"Open In Colab\"/></a>"
      ]
    },
    {
      "cell_type": "code",
      "execution_count": null,
      "metadata": {
        "id": "SQFxH6EO0fcf"
      },
      "outputs": [],
      "source": [
        "# import libs\n",
        "import numpy as np\n",
        "import torch"
      ]
    },
    {
      "cell_type": "code",
      "source": [
        "# create a vector\n",
        "nv = np.array([ [1, 2, 3,4] ]) # first set of sqr bracets to indicate that\n",
        "# we want to input an array!!! second set of [] is to INDICATE THE FIRST ROW\n",
        "print(nv), print(' ')\n",
        "\n",
        "# np.transpose(nv) another method\n",
        " # transpose it\n",
        "print(nv.T), print(' ') # you are not acc transposing here, you ar eprinting\n",
        "# the original array, transposed\n",
        "\n",
        "# transpose the transpose\n",
        "nvT = nv.T\n",
        "print(nvT.T)"
      ],
      "metadata": {
        "colab": {
          "base_uri": "https://localhost:8080/"
        },
        "id": "GpYHNKJa0vNp",
        "outputId": "9e076d81-2b75-477a-be98-05296b013034"
      },
      "execution_count": null,
      "outputs": [
        {
          "output_type": "stream",
          "name": "stdout",
          "text": [
            "[[1 2 3 4]]\n",
            " \n",
            "[[1]\n",
            " [2]\n",
            " [3]\n",
            " [4]]\n",
            " \n",
            "[[1 2 3 4]]\n"
          ]
        }
      ]
    },
    {
      "cell_type": "code",
      "source": [
        "# repeat for a matrix\n",
        "nM = np.array([ [1,2,3,4],[5,6,7,8] ])\n",
        "print(nM), print(' ')\n",
        "\n",
        "# transpose it\n",
        "print(nM.T), print(' ')\n",
        "\n",
        "# transpose the transpose\n",
        "nMT = nM.T\n",
        "print(nMT.T)\n"
      ],
      "metadata": {
        "colab": {
          "base_uri": "https://localhost:8080/"
        },
        "id": "TUUlcBAQ2Pul",
        "outputId": "1bf723ec-0117-4a45-cfdd-7ecc86be06c6"
      },
      "execution_count": null,
      "outputs": [
        {
          "output_type": "stream",
          "name": "stdout",
          "text": [
            "[[1 2 3 4]\n",
            " [5 6 7 8]]\n",
            " \n",
            "[[1 5]\n",
            " [2 6]\n",
            " [3 7]\n",
            " [4 8]]\n",
            " \n",
            "[[1 2 3 4]\n",
            " [5 6 7 8]]\n"
          ]
        }
      ]
    },
    {
      "cell_type": "code",
      "source": [
        "# better visalization\n",
        "nM = np.array([ [1,2,3,4],\n",
        "                [5,6,7,8]\n",
        "                ])\n",
        "print(nM)"
      ],
      "metadata": {
        "colab": {
          "base_uri": "https://localhost:8080/"
        },
        "id": "3YPrWNeO-7bX",
        "outputId": "5c3b31b9-faea-4cbc-b840-0abf1bb34a82"
      },
      "execution_count": null,
      "outputs": [
        {
          "output_type": "stream",
          "name": "stdout",
          "text": [
            "[[1 2 3 4]\n",
            " [5 6 7 8]]\n"
          ]
        }
      ]
    },
    {
      "cell_type": "code",
      "source": [
        "# same operation in pyTorch\n",
        "# in this case numPy and PyTorch are almost the same\n",
        "# but in other cases the syntaxes are different\n",
        "tv = torch.tensor([ [1,2,3,4] ])\n",
        "print(tv), print(' ')\n",
        "\n",
        "# transpose it\n",
        "print(tv.T), print(' ')\n",
        "\n",
        "# transpose the transposed\n",
        "tvT = tv.T\n",
        "print(tvT.T)"
      ],
      "metadata": {
        "colab": {
          "base_uri": "https://localhost:8080/"
        },
        "id": "qKeU329J_MgU",
        "outputId": "5d345c24-5fba-44bb-f444-f6f66dfaba4f"
      },
      "execution_count": null,
      "outputs": [
        {
          "output_type": "stream",
          "name": "stdout",
          "text": [
            "tensor([[1, 2, 3, 4]])\n",
            " \n",
            "tensor([[1],\n",
            "        [2],\n",
            "        [3],\n",
            "        [4]])\n",
            " \n",
            "tensor([[1, 2, 3, 4]])\n"
          ]
        }
      ]
    },
    {
      "cell_type": "code",
      "source": [
        "# repeat for a matrix\n",
        "tM = torch.tensor([ [1,2,3,4],\n",
        "                [5,6,7,8]\n",
        "                ])\n",
        "# transpose it\n",
        "print(tM.T), print(' ')\n",
        "\n",
        "# transpose the transposed\n",
        "tMT = tM.T\n",
        "print(tMT.T)"
      ],
      "metadata": {
        "colab": {
          "base_uri": "https://localhost:8080/"
        },
        "id": "-3Pq64uu_xYE",
        "outputId": "debaf7ba-7ceb-4941-be74-03b193fc0cef"
      },
      "execution_count": null,
      "outputs": [
        {
          "output_type": "stream",
          "name": "stdout",
          "text": [
            "tensor([[1, 5],\n",
            "        [2, 6],\n",
            "        [3, 7],\n",
            "        [4, 8]])\n",
            " \n",
            "tensor([[1, 2, 3, 4],\n",
            "        [5, 6, 7, 8]])\n"
          ]
        }
      ]
    },
    {
      "cell_type": "code",
      "source": [
        "# examine data types\n",
        "print(f'Varaible nv is of type{type(nv)}')\n",
        "print(f'Varaible nM is of type{type(nM)}')\n",
        "print(f'Varaible tv is of type{type(tv)}')\n",
        "print(f'Varaible tM is of type{type(tM)}')"
      ],
      "metadata": {
        "colab": {
          "base_uri": "https://localhost:8080/"
        },
        "id": "jKee1y3mAMoA",
        "outputId": "d4ed1849-72d0-4367-af51-9d5d759b599f"
      },
      "execution_count": null,
      "outputs": [
        {
          "output_type": "stream",
          "name": "stdout",
          "text": [
            "Varaible nv is of type<class 'numpy.ndarray'>\n",
            "Varaible nM is of type<class 'numpy.ndarray'>\n",
            "Varaible tv is of type<class 'torch.Tensor'>\n",
            "Varaible tM is of type<class 'torch.Tensor'>\n"
          ]
        }
      ]
    }
  ]
}