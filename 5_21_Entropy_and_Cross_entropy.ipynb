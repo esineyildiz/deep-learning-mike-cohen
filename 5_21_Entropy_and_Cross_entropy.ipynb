{
  "nbformat": 4,
  "nbformat_minor": 0,
  "metadata": {
    "colab": {
      "provenance": [],
      "authorship_tag": "ABX9TyOruHpyn8fXkqAD89oa5hA/",
      "include_colab_link": true
    },
    "kernelspec": {
      "name": "python3",
      "display_name": "Python 3"
    },
    "language_info": {
      "name": "python"
    }
  },
  "cells": [
    {
      "cell_type": "markdown",
      "metadata": {
        "id": "view-in-github",
        "colab_type": "text"
      },
      "source": [
        "<a href=\"https://colab.research.google.com/github/esineyildiz/deep-learning-mike-cohen/blob/main/5_21_Entropy_and_Cross_entropy.ipynb\" target=\"_parent\"><img src=\"https://colab.research.google.com/assets/colab-badge.svg\" alt=\"Open In Colab\"/></a>"
      ]
    },
    {
      "cell_type": "code",
      "execution_count": null,
      "metadata": {
        "id": "0jexdOB012y5"
      },
      "outputs": [],
      "source": [
        "# import libs\n",
        "import numpy as np\n",
        "import matplotlib.pyplot as plt"
      ]
    },
    {
      "cell_type": "markdown",
      "source": [
        "![image.png](data:image/png;base64,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)"
      ],
      "metadata": {
        "id": "eGpo6OO52FVp"
      }
    },
    {
      "cell_type": "code",
      "source": [
        "# p of an event happening\n",
        "p = .25\n",
        "\n",
        "# NOT the correct formula\n",
        "H = -( p*np.log(p) )\n",
        "print('Wrong entropy: ' + str(H))\n",
        "# this only computes the p of an event happening (xi)\n"
      ],
      "metadata": {
        "colab": {
          "base_uri": "https://localhost:8080/"
        },
        "id": "cTH6mVOd2VMG",
        "outputId": "03f57652-1c42-4b46-cd57-29941ac678c6"
      },
      "execution_count": null,
      "outputs": [
        {
          "output_type": "stream",
          "name": "stdout",
          "text": [
            "Wrong entropy: 0.34657359027997264\n"
          ]
        }
      ]
    },
    {
      "cell_type": "code",
      "source": [
        "x = [.25,.75] # p and q = 1-p\n",
        "\n",
        "H = 0\n",
        "for p in x:\n",
        "  H -= p*np.log(p) # or H += -p*np.log(p)\n",
        "\n",
        "print('correct entropy: ' + str(H))"
      ],
      "metadata": {
        "colab": {
          "base_uri": "https://localhost:8080/"
        },
        "id": "v4TAOEQ_2YeB",
        "outputId": "88b515fa-d50a-4b79-a901-1d61655082e5"
      },
      "execution_count": null,
      "outputs": [
        {
          "output_type": "stream",
          "name": "stdout",
          "text": [
            "correct entropy: 0.5623351446188083\n"
          ]
        }
      ]
    },
    {
      "cell_type": "code",
      "source": [
        "# also correct, written out for N=2 events\n",
        "\n",
        "# Binary entropy, an important loss function in DL\n",
        "H = -(p*np.log(p) + (1-p)*np.log(1-p) )\n",
        "print('Correct entropy: ' + str(H))"
      ],
      "metadata": {
        "colab": {
          "base_uri": "https://localhost:8080/"
        },
        "id": "eFDnW4jV4BFv",
        "outputId": "724f49c6-dc64-4b68-809c-4e2a88629f87"
      },
      "execution_count": null,
      "outputs": [
        {
          "output_type": "stream",
          "name": "stdout",
          "text": [
            "Correct entropy: 0.5623351446188083\n"
          ]
        }
      ]
    },
    {
      "cell_type": "code",
      "source": [
        "# Cross-entropy\n",
        "\n",
        "# note: all probs must sum to 1!!!\n",
        "p = [   1,0   ] # cat or no cat\n",
        "q = [ .25,.75 ]\n",
        "\n",
        "H = 0\n",
        "for i in range(len(p)):\n",
        "    H -= p[i]*np.log(q[i])\n",
        "print('Cross entropy: ' + str(H))"
      ],
      "metadata": {
        "colab": {
          "base_uri": "https://localhost:8080/"
        },
        "id": "XQnR5x9q4uOa",
        "outputId": "c7a066b8-7f9f-4644-844f-c28d2c94cb4c"
      },
      "execution_count": null,
      "outputs": [
        {
          "output_type": "stream",
          "name": "stdout",
          "text": [
            "Cross entropy: 1.3862943611198906\n"
          ]
        }
      ]
    },
    {
      "cell_type": "code",
      "source": [
        "# also correct for N=2 events\n",
        "# binary cross entropy\n",
        "\n",
        "H = - ( p[0]*np.log(q[0]) + p[1]*np.log(q[1]) )\n",
        "print('Correct entropy: ' + str(H) )\n",
        "\n",
        "# simplification\n",
        "# if p is either 1 or 0 and there are two events then we can simplify\n",
        "# the binary cross-entropy\n",
        "H = -np.log(q[0])"
      ],
      "metadata": {
        "colab": {
          "base_uri": "https://localhost:8080/"
        },
        "id": "vrPwjxsY5yYh",
        "outputId": "279b445d-0604-410e-ff12-67988f289a37"
      },
      "execution_count": null,
      "outputs": [
        {
          "output_type": "stream",
          "name": "stdout",
          "text": [
            "Correct entropy: 1.3862943611198906\n"
          ]
        }
      ]
    },
    {
      "cell_type": "code",
      "source": [
        "# now using pytorch\n",
        "\n",
        "import torch\n",
        "import torch.nn.functional as F\n",
        "\n",
        "# note: inputs must be tensors\n",
        "q_tensor = torch.Tensor(q)\n",
        "p_tensor = torch.Tensor(p)\n",
        "\n",
        "# F.binary_cross_entropy(p,q) # error message\n",
        "F.binary_cross_entropy(q_tensor, p_tensor) # it is sensitive to the order\n",
        "# of the inputs so (p_tensor, q_tensor) has a different output\n",
        "# p_tensor is a cat, isn't a cat\n",
        "# q_tensor is the model output"
      ],
      "metadata": {
        "colab": {
          "base_uri": "https://localhost:8080/"
        },
        "id": "uoCoR1nBCBF0",
        "outputId": "5c755a7d-1f67-49a1-c7df-a86d5b17a9b8"
      },
      "execution_count": null,
      "outputs": [
        {
          "output_type": "execute_result",
          "data": {
            "text/plain": [
              "tensor(1.3863)"
            ]
          },
          "metadata": {},
          "execution_count": 18
        }
      ]
    },
    {
      "cell_type": "code",
      "source": [],
      "metadata": {
        "id": "C26eEXx6CpSN"
      },
      "execution_count": null,
      "outputs": []
    }
  ]
}