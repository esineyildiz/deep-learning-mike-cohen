{
  "nbformat": 4,
  "nbformat_minor": 0,
  "metadata": {
    "colab": {
      "provenance": [],
      "authorship_tag": "ABX9TyO2DeWGlv5/8tPhzNQXXXtO",
      "include_colab_link": true
    },
    "kernelspec": {
      "name": "python3",
      "display_name": "Python 3"
    },
    "language_info": {
      "name": "python"
    }
  },
  "cells": [
    {
      "cell_type": "markdown",
      "metadata": {
        "id": "view-in-github",
        "colab_type": "text"
      },
      "source": [
        "<a href=\"https://colab.research.google.com/github/esineyildiz/deep-learning-mike-cohen/blob/main/5_18_matrix_multiplication.ipynb\" target=\"_parent\"><img src=\"https://colab.research.google.com/assets/colab-badge.svg\" alt=\"Open In Colab\"/></a>"
      ]
    },
    {
      "cell_type": "code",
      "execution_count": null,
      "metadata": {
        "id": "K6g5xa7dZIOP"
      },
      "outputs": [],
      "source": [
        "# import libraries\n",
        "import numpy as np\n",
        "import torch"
      ]
    },
    {
      "cell_type": "code",
      "source": [
        "# using numpy\n",
        "\n",
        "# create some random matrices\n",
        "A = np.random.randn(3,4)\n",
        "B = np.random.randn(4,5)\n",
        "C = np.random.randn(3,7)\n",
        "\n",
        "# try some multiplication...\n",
        "# np.round(MxN,  2) comma 2 will round to two sginificant\n",
        "# digits after decimal point\n",
        "\n",
        "print(np.round(A@B ,2 )), print(' ') # shortcut\n",
        "# A@B is the same thing as\n",
        "# np.matmul(A,B)\n",
        "\n",
        "#print(np.round(A@C ,2)), print(' ') # matmul is not defined\n",
        "\n",
        "#print(np.round(B@C ,2)), print(' ') # matmul is not defined\n",
        "\n",
        "print(np.round(C.T@A,  2))"
      ],
      "metadata": {
        "colab": {
          "base_uri": "https://localhost:8080/"
        },
        "id": "cipd8GHZZPBW",
        "outputId": "6a566259-ba6f-4524-8e3c-9a087ca0d0d5"
      },
      "execution_count": null,
      "outputs": [
        {
          "output_type": "stream",
          "name": "stdout",
          "text": [
            "[[ 1.39 -0.86  1.08  0.65 -2.65]\n",
            " [ 0.52 -1.48  1.72  1.08 -2.69]\n",
            " [-0.15 -0.1  -0.    0.2   0.23]]\n",
            " \n",
            "[[-1.67  0.65  0.17  0.68]\n",
            " [ 1.1  -1.96  0.    1.47]\n",
            " [ 5.64 -2.23 -0.71 -2.07]\n",
            " [ 2.4  -2.85  0.15  1.1 ]\n",
            " [-2.12  0.93  0.19  0.75]\n",
            " [-1.39  0.92  0.14  0.06]\n",
            " [ 3.4  -1.06 -0.43 -1.63]]\n"
          ]
        }
      ]
    },
    {
      "cell_type": "code",
      "source": [
        " # Usiing pytorch\n",
        "A = torch.randn(3,4)\n",
        "B = torch.randn(4,5)\n",
        "C1 = np.random.randn(4,7)\n",
        "C2 = torch.tensor(C1,dtype=torch.float)\n",
        "\n",
        "print(np.round( A@B ,2)), print(' ')\n",
        "# np.round( A@B.T ,2)\n",
        "print(np.round(A@C1 ,2)), print(' ') # numpy and pytorch work here (sometimes they do smtimes don't)\n",
        "print(np.round(A@C2 ,2))"
      ],
      "metadata": {
        "colab": {
          "base_uri": "https://localhost:8080/"
        },
        "id": "gm_Dwjkraq8D",
        "outputId": "14280a95-f2a1-4988-e99c-0268fb7285a7"
      },
      "execution_count": null,
      "outputs": [
        {
          "output_type": "stream",
          "name": "stdout",
          "text": [
            "tensor([[-1.9500, -1.4000, -0.7600, -1.1000,  0.5500],\n",
            "        [ 0.4900, -0.0800,  1.5400, -3.1400, -2.0200],\n",
            "        [ 0.5900,  1.9000, -2.6900, -2.9500, -6.2300]])\n",
            " \n",
            "tensor([[-0.8300, -1.1000, -0.7800,  0.2200, -0.0400, -1.6400,  0.3100],\n",
            "        [ 3.0100, -1.0000,  0.4600, -1.6200, -1.6600,  2.9200, -0.8500],\n",
            "        [ 8.2900,  0.1400, -3.3200, -0.2200,  6.6300,  4.1400,  0.2300]],\n",
            "       dtype=torch.float64)\n",
            " \n",
            "tensor([[-0.8300, -1.1000, -0.7800,  0.2200, -0.0400, -1.6400,  0.3100],\n",
            "        [ 3.0100, -1.0000,  0.4600, -1.6200, -1.6600,  2.9200, -0.8500],\n",
            "        [ 8.2900,  0.1400, -3.3200, -0.2200,  6.6300,  4.1400,  0.2300]])\n"
          ]
        }
      ]
    }
  ]
}