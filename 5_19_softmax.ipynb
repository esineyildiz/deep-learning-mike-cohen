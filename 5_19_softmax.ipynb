{
  "nbformat": 4,
  "nbformat_minor": 0,
  "metadata": {
    "colab": {
      "provenance": [],
      "authorship_tag": "ABX9TyOj09iEbdrvknTCxfnOWf4y"
    },
    "kernelspec": {
      "name": "python3",
      "display_name": "Python 3"
    },
    "language_info": {
      "name": "python"
    }
  },
  "cells": [
    {
      "cell_type": "code",
      "execution_count": null,
      "metadata": {
        "id": "EloilaagLrJ-"
      },
      "outputs": [],
      "source": [
        "# import libraries\n",
        "import numpy as np\n",
        "import torch\n",
        "import torch.nn as nn\n",
        "import matplotlib.pyplot as plt"
      ]
    },
    {
      "cell_type": "code",
      "source": [
        "# manually in numpy\n",
        "\n",
        "# the list of numbers\n",
        "z = [1,2,3]\n",
        "\n",
        "# compute the softmax result\n",
        "num = np.exp(z)\n",
        "den = np.sum(num) # np.sum( np.exp(z) )\n",
        "sigma = num / den\n",
        "\n",
        "print(sigma)\n",
        "print(np.sum(sigma))"
      ],
      "metadata": {
        "colab": {
          "base_uri": "https://localhost:8080/"
        },
        "id": "yTBf_1fLL9I5",
        "outputId": "2b9eb48d-932a-45bb-ad07-04ddce3f9a51"
      },
      "execution_count": null,
      "outputs": [
        {
          "output_type": "stream",
          "name": "stdout",
          "text": [
            "[0.09003057 0.24472847 0.66524096]\n",
            "1.0\n"
          ]
        }
      ]
    },
    {
      "cell_type": "code",
      "source": [
        "# repeat with some random integers\n",
        "z = np.random.randint(-5, high=15, size=25)\n",
        "\n",
        "print(z)\n",
        "\n",
        "# compute the softmax result\n",
        "num = np.exp(z)\n",
        "den = np.sum(num)\n",
        "sigma = num / den\n",
        "\n",
        "# compare\n",
        "plt.plot(z,sigma,'ko')\n",
        "plt.xlabel('Original number(z)')\n",
        "plt.ylabel('Softmax $\\sigma$')\n",
        "plt .yscale('log') # in log scale softmax is a linear transformation\n",
        "plt.title('$\\sum\\sigma$ = %g' %np.sum(sigma))\n",
        "plt.show()"
      ],
      "metadata": {
        "colab": {
          "base_uri": "https://localhost:8080/",
          "height": 513
        },
        "id": "KMYLcLDkM5nr",
        "outputId": "d6adceba-dd53-407d-b862-6ac824ba2d16"
      },
      "execution_count": null,
      "outputs": [
        {
          "output_type": "stream",
          "name": "stdout",
          "text": [
            "[ 2 14  3 10 -1 14  1 11  4  0 -3 -1 -5 12 -4 12 11  1  1  0  6 -2 -3 -1\n",
            " -2]\n"
          ]
        },
        {
          "output_type": "display_data",
          "data": {
            "text/plain": [
              "<Figure size 640x480 with 1 Axes>"
            ],
            "image/png": "[encoded data removed]"
          },
          "metadata": {}
        }
      ]
    },
    {
      "cell_type": "markdown",
      "source": [
        "Using pytorch"
      ],
      "metadata": {
        "id": "D5KC2aUZQe31"
      }
    },
    {
      "cell_type": "code",
      "source": [
        "# slightly more involved using torch.nn\n",
        "\n",
        "# create an instance of the softmax activation class\n",
        "softfun = nn.Softmax(dim=0) # calling up a class from pyTorch library\n",
        "\n",
        "# then apply the data to that function\n",
        "sigmaT = softfun( torch.Tensor(z) ) # you can't put in z (it's a list) convert to torch\n",
        "\n",
        "# now we get the results\n",
        "print(sigmaT)"
      ],
      "metadata": {
        "colab": {
          "base_uri": "https://localhost:8080/"
        },
        "id": "oYqkdYOgQemj",
        "outputId": "395cbf56-cff0-4014-9ff6-7a1f58971e82"
      },
      "execution_count": null,
      "outputs": [
        {
          "output_type": "stream",
          "name": "stdout",
          "text": [
            "tensor([0.0900, 0.2447, 0.6652])\n"
          ]
        }
      ]
    },
    {
      "cell_type": "code",
      "source": [
        "print(type(z))\n",
        "type( torch.Tensor(z) )"
      ],
      "metadata": {
        "colab": {
          "base_uri": "https://localhost:8080/"
        },
        "id": "RJLAelREOug2",
        "outputId": "057ea57d-4abd-402b-c409-85b47147ffd6"
      },
      "execution_count": null,
      "outputs": [
        {
          "output_type": "stream",
          "name": "stdout",
          "text": [
            "<class 'list'>\n"
          ]
        },
        {
          "output_type": "execute_result",
          "data": {
            "text/plain": [
              "torch.Tensor"
            ]
          },
          "metadata": {},
          "execution_count": 21
        }
      ]
    }
  ]
}