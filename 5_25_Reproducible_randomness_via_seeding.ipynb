{
  "nbformat": 4,
  "nbformat_minor": 0,
  "metadata": {
    "colab": {
      "provenance": [],
      "authorship_tag": "ABX9TyNJGXMUJ/PqRiJ421jJljfi"
    },
    "kernelspec": {
      "name": "python3",
      "display_name": "Python 3"
    },
    "language_info": {
      "name": "python"
    }
  },
  "cells": [
    {
      "cell_type": "code",
      "execution_count": null,
      "metadata": {
        "id": "tTW35VdkyEsy"
      },
      "outputs": [],
      "source": [
        "import numpy as np\n",
        "import torch"
      ]
    },
    {
      "cell_type": "code",
      "source": [
        "# generate a few random numbers\n",
        "np.random.randn(5)"
      ],
      "metadata": {
        "colab": {
          "base_uri": "https://localhost:8080/"
        },
        "id": "dngCUSVOzHrM",
        "outputId": "fb25e4f8-ae3d-409b-83d3-f169b5f17338"
      },
      "execution_count": null,
      "outputs": [
        {
          "output_type": "execute_result",
          "data": {
            "text/plain": [
              "array([ 0.79838833,  0.09487156, -0.15280323, -0.93836674, -0.08865107])"
            ]
          },
          "metadata": {},
          "execution_count": 6
        }
      ]
    },
    {
      "cell_type": "code",
      "source": [
        "# repeat after fixing the seed (old-but-still-widely-used method)\n",
        "np.random.seed(17) # arbitaryb number\n",
        "print(np.random.randn(5))\n",
        "print(np.random.randn(5))\n",
        "# [ 0.27626589 -1.85462808  0.62390111  1.14531129  1.03719047]\n",
        "# [ 1.88663893 -0.11169829 -0.36210134  0.14867505 -0.43778315]"
      ],
      "metadata": {
        "colab": {
          "base_uri": "https://localhost:8080/"
        },
        "id": "COwC4bAhzRy1",
        "outputId": "59e12311-ed7c-459a-cf65-04353af18976"
      },
      "execution_count": null,
      "outputs": [
        {
          "output_type": "stream",
          "name": "stdout",
          "text": [
            "[ 0.27626589 -1.85462808  0.62390111  1.14531129  1.03719047]\n",
            "[ 1.88663893 -0.11169829 -0.36210134  0.14867505 -0.43778315]\n"
          ]
        }
      ]
    },
    {
      "cell_type": "markdown",
      "source": [
        "New seed mechanism in numpy"
      ],
      "metadata": {
        "id": "oWMJ1zdjz6Qa"
      }
    },
    {
      "cell_type": "code",
      "source": [
        "randseed1 = np.random.RandomState(17)\n",
        "randseed2 = np.random.RandomState(20210530)\n",
        "\n",
        "print( randseed1.randn(5) ) # same seq.\n",
        "print( randseed2.randn(5) ) # different from above, but same each time\n",
        "print( randseed1.randn(5) ) # same as two up\n",
        "print( randseed2.randn(5) ) # same as two up\n",
        "print( np.random.randn(5) ) # different each time\n"
      ],
      "metadata": {
        "colab": {
          "base_uri": "https://localhost:8080/"
        },
        "id": "FVm9jl-Vz5pc",
        "outputId": "c8095705-e545-4c50-89cc-19aaa388a826"
      },
      "execution_count": null,
      "outputs": [
        {
          "output_type": "stream",
          "name": "stdout",
          "text": [
            "[ 0.27626589 -1.85462808  0.62390111  1.14531129  1.03719047]\n",
            "[-0.24972681 -1.01951826  2.23461339  0.72764703  1.2921122 ]\n",
            "[ 1.88663893 -0.11169829 -0.36210134  0.14867505 -0.43778315]\n",
            "[ 1.15494929 -0.0015467  -0.11196868 -1.08136725  0.10265891]\n",
            "[ 0.86962384  0.56778309  0.46528234 -1.16537308 -2.03599479]\n"
          ]
        }
      ]
    },
    {
      "cell_type": "code",
      "source": [
        "\n",
        "# [ 0.27626589 -1.85462808  0.62390111  1.14531129  1.03719047]\n",
        "# [-0.24972681 -1.01951826  2.23461339  0.72764703  1.2921122 ]\n",
        "# [ 1.88663893 -0.11169829 -0.36210134  0.14867505 -0.43778315]\n",
        "# [ 1.15494929 -0.0015467  -0.11196868 -1.08136725  0.10265891]\n",
        "# [ 0.97754176 -0.13858525  0.10385631  0.30059104  0.9682053 ]"
      ],
      "metadata": {
        "id": "dFGT7WYz2-BY"
      },
      "execution_count": null,
      "outputs": []
    },
    {
      "cell_type": "code",
      "source": [
        "torch.manual_seed(17)\n",
        "print( torch.randn(5) )\n",
        "\n",
        "# torch's seed doesn't spread to numpy\n",
        "print( np.random.randn(5) )"
      ],
      "metadata": {
        "colab": {
          "base_uri": "https://localhost:8080/"
        },
        "id": "9Np7jwXeErZJ",
        "outputId": "b56891fc-80b8-4300-ea18-28125baf5fff"
      },
      "execution_count": null,
      "outputs": [
        {
          "output_type": "stream",
          "name": "stdout",
          "text": [
            "tensor([-1.4135,  0.2336,  0.0340,  0.3499, -0.0145])\n",
            "[ 1.1191818  -0.98339611  0.24452002 -0.58140974  0.4295639 ]\n"
          ]
        }
      ]
    }
  ]
}